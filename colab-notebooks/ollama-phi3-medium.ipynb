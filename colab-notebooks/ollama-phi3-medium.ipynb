{
  "cells": [
    {
      "cell_type": "markdown",
      "metadata": {
        "id": "view-in-github",
        "colab_type": "text"
      },
      "source": [
        "<a href=\"https://colab.research.google.com/github/Subhrajit-Katonic/Colab-Notebooks/blob/master/llms/ollama.ipynb\" target=\"_parent\"><img src=\"https://colab.research.google.com/assets/colab-badge.svg\" alt=\"Open In Colab\"/></a>"
      ]
    },
    {
      "cell_type": "code",
      "execution_count": 1,
      "metadata": {
        "colab": {
          "base_uri": "https://localhost:8080/"
        },
        "id": "kFsCCl1ywNJ0",
        "outputId": "c9c45b82-1bcd-4d71-d321-8f1780d9cc6b"
      },
      "outputs": [
        {
          "output_type": "stream",
          "name": "stdout",
          "text": [
            ">>> Downloading ollama...\n",
            "############################################################################################# 100.0%\n",
            ">>> Installing ollama to /usr/local/bin...\n",
            ">>> Adding ollama user to video group...\n",
            ">>> Adding current user to ollama group...\n",
            ">>> Creating ollama systemd service...\n",
            "WARNING: Unable to detect NVIDIA/AMD GPU. Install lspci or lshw to automatically detect and install GPU dependencies.\n",
            ">>> The Ollama API is now available at 127.0.0.1:11434.\n",
            ">>> Install complete. Run \"ollama\" from the command line.\n"
          ]
        }
      ],
      "source": [
        "!curl -fsSL https://ollama.com/install.sh | sh"
      ]
    },
    {
      "cell_type": "code",
      "source": [
        "!rm myscript.sh\n",
        "!echo '#!/bin/bash' > myscript.sh\n",
        "!echo 'ollama serve' >> myscript.sh\n",
        "# Make the script executable\n",
        "!chmod +x myscript.sh\n",
        "!nohup ./myscript.sh &"
      ],
      "metadata": {
        "colab": {
          "base_uri": "https://localhost:8080/"
        },
        "id": "9u1PLLAkcU1K",
        "outputId": "7c549008-ab16-4183-e9df-38bba275316f"
      },
      "execution_count": 16,
      "outputs": [
        {
          "output_type": "stream",
          "name": "stdout",
          "text": [
            "nohup: appending output to 'nohup.out'\n"
          ]
        }
      ]
    },
    {
      "cell_type": "code",
      "source": [
        "!nohup ollama run phi3:medium > ollama_model.log 2>&1 &"
      ],
      "metadata": {
        "id": "SXx-CbytbfkA"
      },
      "execution_count": 10,
      "outputs": []
    },
    {
      "cell_type": "code",
      "source": [
        "!nohup ollama pull mxbai-embed-large > ollama_emd_model.log 2>&1 &"
      ],
      "metadata": {
        "id": "zunm3t0YdjQ8"
      },
      "execution_count": 18,
      "outputs": []
    },
    {
      "cell_type": "code",
      "source": [
        "!ollama list"
      ],
      "metadata": {
        "colab": {
          "base_uri": "https://localhost:8080/"
        },
        "id": "TBfB2i8adpcz",
        "outputId": "3e98d21e-a045-45bf-bc26-0bf4ea141db6"
      },
      "execution_count": 17,
      "outputs": [
        {
          "output_type": "stream",
          "name": "stdout",
          "text": [
            "NAME       \tID          \tSIZE  \tMODIFIED       \n",
            "phi3:medium\t1e67dff39209\t7.9 GB\t15 minutes ago\t\n"
          ]
        }
      ]
    },
    {
      "cell_type": "code",
      "source": [
        "!pip install ollama openai"
      ],
      "metadata": {
        "id": "KSOEAhjkeDYE"
      },
      "execution_count": null,
      "outputs": []
    },
    {
      "cell_type": "code",
      "source": [
        "from IPython.display import Markdown\n",
        "from openai import OpenAI\n",
        "import ollama"
      ],
      "metadata": {
        "id": "diNx8SUGk3bJ"
      },
      "execution_count": 21,
      "outputs": []
    },
    {
      "cell_type": "code",
      "execution_count": 22,
      "metadata": {
        "id": "T2tJMypvIHZk"
      },
      "outputs": [],
      "source": [
        "client = OpenAI(\n",
        "    base_url = 'http://localhost:11434/v1',\n",
        "    api_key='ollama', # required, but unused\n",
        ")"
      ]
    },
    {
      "cell_type": "code",
      "source": [
        "# Setting up the model, enabling streaming responses, and defining the input messages\n",
        "ollama_response = ollama.chat(model='phi3:medium', messages=[\n",
        "   {\n",
        "     'role': 'system',\n",
        "     'content': 'You are a helpful assistant with sound philosophical knowledge.',\n",
        "   },\n",
        "   {\n",
        "     'role': 'user',\n",
        "     'content': 'Explain to me the meaning of life?',\n",
        "   },\n",
        "])\n",
        "# Printing out of the generated response\n",
        "print(ollama_response['message']['content'])"
      ],
      "metadata": {
        "colab": {
          "base_uri": "https://localhost:8080/"
        },
        "id": "ZLlTZqLik7WP",
        "outputId": "716da1c6-d227-4f8e-cae7-78ce0325ebe2"
      },
      "execution_count": 23,
      "outputs": [
        {
          "output_type": "stream",
          "name": "stdout",
          "text": [
            "The question, \"What is the meaning of life?\" has been pondered by thinkers throughout history and across cultures. Philosophically speaking, there isn't one definitive answer that satisfies everyone; rather, different perspectives provide various interpretations:\n",
            "\n",
            "1. **Existentialism** - Existentialists like Jean-Paul Sartre suggest life has no inherent meaning or purpose until individuals create their own through choices and actions. It is up to each person to find their individual significance in life.\n",
            "\n",
            "2. **Absurdism** - Albert Camus argued that human beings continually seek meaning, but the universe remains indifferent, creating an absurd tension between our desires and reality. However, we can still create meaning by embracing this absurdity and living authentically despite it.\n",
            "\n",
            "3. **Utilitarianism** - Utilitarians like John Stuart Mill believe that life's meaning is derived from the pursuit of happiness or pleasure while minimizing pain for oneself and others, with an emphasis on moral actions that maximize overall well-be beings.\n",
            "\n",
            "4. **Religious Perspective** - Many religious traditions provide their own interpretations of life’s purpose: In Christianity, it's to love God and serve one another; in Buddhism, to attain enlightenment by overcoming desire and attachment. These perspectives often offer guidelines for living a morally virtuous life that aligns with the values of the respective faith.\n",
            "\n",
            "5. **Hedonistic Perspective** - Some philosophers advocate pleasure-seeking as the primary goal in life, arguing that seeking personal enjoyment and satisfaction is what gives one's existence meaning. This hedonic viewpoint often emphasizes individual freedom to pursue joy while minimizing pain or discomfort.\n",
            "\n",
            "6. **Humanistic Perspective** - Humanists argue that the essence of life lies in our human capacity for reason, empathy, and creativity. By nurturing these qualities within ourselves and others, we create meaningful relationships, contribute to society's growth, and better understand the world around us.\n",
            "\n",
            "7. **Existential Nihilism** - Existential nihilists propose that life has no inherent purpose or value. Instead of finding despair in this outlook, some existential nihilists find liberation and freedom to create their own meaning without predefined structures or values imposing upon them.\n",
            "\n",
            "8. **Virtue Ethics** - Aristotle's philosophy emphasizes the importance of cultivating virtues like courage, wisdom, and justice for a fulfilling life. By developing these character traits, individuals can lead morally good lives that contribute positively to society while achnaging personal growth.\n",
            "\n",
            "Each perspective offers insight into various ways one might approach understanding the meaning or purpose of life. Ultimately, determining what gives life meaning may be deeply subjective and unique to each individual.\n"
          ]
        }
      ]
    },
    {
      "cell_type": "code",
      "execution_count": 24,
      "metadata": {
        "id": "YfgtJSE8IGni",
        "colab": {
          "base_uri": "https://localhost:8080/",
          "height": 439
        },
        "outputId": "f1f4ceca-c12a-4df4-f8c7-209cee897741"
      },
      "outputs": [
        {
          "output_type": "execute_result",
          "data": {
            "text/plain": [
              "<IPython.core.display.Markdown object>"
            ],
            "text/markdown": "The meaning of life is a subject that has intrigued humanity for centuries, and there isn't one definitive answer as it can differ greatly depending on an individual' cups views and beliefs. However, some common interpretations include:\n\n1. Achieving happiness: Many philosophers suggest that the ultimate purpose of life is to find joy or contentment in our actions and experiences. Happiness might come from personal achievements, fulfilling relationships, or pursuing passions and interests. \n2. Self-actualization: This theory posits that the meaning of life is realizing one's full potential and becoming everything you can be - a concept often linked to Abraham Maslow’s hierarchy of needs. It suggests striving for personal growth and self-improvement throughout our lives. \n3. Contributing to society: Some argue that purpose lies in making the world better by helping others, creating positive change, or leaving a lasting impact on future generations. This can be seen through parenthood, activism, philanthropy, innovation, etc.\n4. Fulfilling religious or spiritual beliefs: Many find meaning and purpose within the context of their religion or personal spirituality. They might view life as a journey to attain enlightennment, unite with a higher power, achieve salvation, or learn certain divine lessons. \n5. Pursuit of knowledge: Some may see the pursuit and acquisition of knowledge - either for its own sake or for practical application - as the fundamental meaning of life. This can be seen in scientific research, philosophical inquiry, historical analysis, etc.\n6. Existence itself: A nihilistic view might hold that there is no inherent purpose to existence – we create our own meanings through personal narratives and relationships. \n\nUltimately, the meaning of life may be a combination of these perspectives or something entirely different based on an individual's experiences, reflections, values, beliefs, and aspirations."
          },
          "metadata": {},
          "execution_count": 24
        }
      ],
      "source": [
        "response = client.chat.completions.create(\n",
        "  model=\"phi3:medium\",\n",
        "  messages=[\n",
        "    {\n",
        "      'role': 'system',\n",
        "      'content': 'You are a helpful assistant with sound philosophical knowledge.',\n",
        "    },\n",
        "    {\n",
        "      'role': 'user',\n",
        "      'content': 'Explain to me the meaning of life?',\n",
        "    },\n",
        "  ]\n",
        ")\n",
        "Markdown(response.choices[0].message.content)"
      ]
    },
    {
      "cell_type": "code",
      "source": [
        "from openai import OpenAI\n",
        "\n",
        "system_content = \"You are a helpful assistant with sound philosophical knowledge.\"\n",
        "user_content = \"Explain to me the meaning of life?\"\n",
        "\n",
        "response = client.chat.completions.create(\n",
        "  model=\"phi3:medium\", # Replace with your model name.\n",
        "  messages=[\n",
        "    {\"role\": \"system\", \"content\": system_content},\n",
        "    {\"role\": \"user\", \"content\": user_content}\n",
        "  ],\n",
        "  temperature=0,\n",
        "  stream=True  # this time, we set stream=True\n",
        ")\n",
        "\n",
        "for chunk in response:\n",
        "    print(chunk.choices[0].delta.content, end = \"\", flush=True)"
      ],
      "metadata": {
        "colab": {
          "base_uri": "https://localhost:8080/"
        },
        "id": "PB-V3Mh-lUMU",
        "outputId": "c622ec06-5c0a-4cbb-e46f-9f8a20757cfc"
      },
      "execution_count": 27,
      "outputs": [
        {
          "output_type": "stream",
          "name": "stdout",
          "text": [
            "The question \"What is the meaning of life?\" has been pondered by humans for centuries, and it's one that philosophy, religion, science, and personal belief systems have attempted to answer in various ways. Here are a few perspectives:\n",
            "\n",
            "1. **Religious Perspective**: Many religions propose that the purpose or meaning of life is tied to fulfilling God's will or achieving spiritual enlightenment. For example, Christianity suggests that the purpose of life is to love and serve God and others in preparation for eternal life with Him.\n",
            "\n",
            "2. **Existential Perspective**: Existentialists like Jean-Paul Sartre argue that life has no inherent meaning; it's up to each individual to create their own purpose through the choices they make. This perspective emphasizes personal freedom, responsibility, and authenticity.\n",
            "\n",
            "3. **Humanistic Perspective**: Humanism suggests that the meaning of life is found in human potential and achievements. It encourages individuals to seek knowledge, improve themselves, contribute positively to society, and strive for a better world.\n",
            "\n",
            "4. **Scientific/Biological Perspective**: From an evolutionary standpoint, the purpose of life could be seen as survival and reproduction - passing on one's genes to ensure the continuation of their species. However, this perspective doesn't necessarily address existential or philosophical questions about meaning beyond biology.\n",
            "\n",
            "5. **Absurdism**: Albert Camus proposed that life is inherently absurd because humans continually seek meaning in a universe that offers none. The challenge then becomes to embrace the absurdity and live passionately despite it, creating our own meanings and values.\n",
            "\n",
            "6. **Buddhist Perspective**: Buddhism suggests that the purpose of life is to end suffering through understanding the Four Noble Truths and following the Eightfold Path, which leads to enlightenment or Nirvana - a state free from desire, suffering, and rebirth.\n",
            "\n",
            "7. **Personal Perspective**: Ultimately, many people find meaning in life through personal experiences, relationships, passions, achievements, and contributions to others' lives. This can vary greatly between individuals based on their unique values, beliefs, and circumstances.\n",
            "\n",
            "In conclusion, the \"meaning of life\" is a deeply subjective question with no universally agreed-upon answer. It depends largely on one's personal beliefs, experiences, and philosophical outlook."
          ]
        }
      ]
    },
    {
      "cell_type": "code",
      "execution_count": null,
      "metadata": {
        "id": "ljeJrIpeZhRr"
      },
      "outputs": [],
      "source": []
    }
  ],
  "metadata": {
    "accelerator": "GPU",
    "colab": {
      "gpuType": "T4",
      "provenance": [],
      "include_colab_link": true
    },
    "kernelspec": {
      "display_name": "Python 3",
      "name": "python3"
    },
    "language_info": {
      "name": "python"
    }
  },
  "nbformat": 4,
  "nbformat_minor": 0
}